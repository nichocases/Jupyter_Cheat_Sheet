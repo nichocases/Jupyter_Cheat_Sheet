{
 "cells": [
  {
   "cell_type": "code",
   "execution_count": null,
   "metadata": {},
   "outputs": [],
   "source": [
    "# Libraries\n",
    "import pandas as pd\n",
    "import numpy as np\n",
    "import os"
   ]
  },
  {
   "cell_type": "code",
   "execution_count": null,
   "metadata": {},
   "outputs": [],
   "source": [
    "path = r\"C:\\MOTOR\\Acierta\\s_tp_score\\src\\co\\com\\experian\\omnia\\motorcrts\\core\\scr\\familias\"\n",
    "arc = os.listdir(path)\n",
    "df = pd.DataFrame()\n",
    " \n",
    "for i in range(len(arc)):\n",
    "    print(path+\"/\"+arc[i])\n",
    "    with open(path+\"/\"+arc[i], \"r\") as fichero:\n",
    "        for linea in fichero:\n",
    "            if \"= parametros[\" in linea:\n",
    "                df=arc[i]+\";\"+linea+df\n",
    "                print(arc[i]+\";\"+linea)"
   ]
  }
 ],
 "metadata": {
  "kernelspec": {
   "display_name": "Python 3",
   "language": "python",
   "name": "python3"
  },
  "language_info": {
   "codemirror_mode": {
    "name": "ipython",
    "version": 3
   },
   "file_extension": ".py",
   "mimetype": "text/x-python",
   "name": "python",
   "nbconvert_exporter": "python",
   "pygments_lexer": "ipython3",
   "version": "3.7.6"
  }
 },
 "nbformat": 4,
 "nbformat_minor": 4
}
