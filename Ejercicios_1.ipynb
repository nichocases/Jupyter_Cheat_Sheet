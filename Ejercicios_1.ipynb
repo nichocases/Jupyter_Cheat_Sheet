{
  "nbformat": 4,
  "nbformat_minor": 0,
  "metadata": {
    "kernelspec": {
      "display_name": "Python 3",
      "language": "python",
      "name": "python3"
    },
    "language_info": {
      "codemirror_mode": {
        "name": "ipython",
        "version": 3
      },
      "file_extension": ".py",
      "mimetype": "text/x-python",
      "name": "python",
      "nbconvert_exporter": "python",
      "pygments_lexer": "ipython3",
      "version": "3.7.6"
    },
    "colab": {
      "name": "Copia de Entrevista.ipynb",
      "provenance": [],
      "collapsed_sections": [],
      "include_colab_link": true
    }
  },
  "cells": [
    {
      "cell_type": "markdown",
      "metadata": {
        "id": "view-in-github",
        "colab_type": "text"
      },
      "source": [
        "<a href=\"https://colab.research.google.com/github/nichocases/Jupyter_Cheat_Sheet/blob/master/Ejercicios_1.ipynb\" target=\"_parent\"><img src=\"https://colab.research.google.com/assets/colab-badge.svg\" alt=\"Open In Colab\"/></a>"
      ]
    },
    {
      "cell_type": "code",
      "metadata": {
        "id": "labqMr2dJ5W8",
        "colab_type": "code",
        "colab": {}
      },
      "source": [
        "import os\n",
        "import pandas as pd"
      ],
      "execution_count": 0,
      "outputs": []
    },
    {
      "cell_type": "markdown",
      "metadata": {
        "id": "6pAvBonhJ5XA",
        "colab_type": "text"
      },
      "source": [
        "Punto 1 ## si el numero esta el numero de veces q es de manera consecutiva"
      ]
    },
    {
      "cell_type": "markdown",
      "metadata": {
        "id": "o6Msm5DCJ5XB",
        "colab_type": "text"
      },
      "source": [
        "ejemplo si aparece 55555 esta el 5, 5 veces, es decir , ok \n",
        "\n",
        "pero si esta 555455 No sirve"
      ]
    },
    {
      "cell_type": "code",
      "metadata": {
        "id": "vKIN6SQWJ5XC",
        "colab_type": "code",
        "colab": {}
      },
      "source": [
        "str1 ='57888888882339999'\n",
        "str3='5556293383563665'\n",
        "str2=str1"
      ],
      "execution_count": 0,
      "outputs": []
    },
    {
      "cell_type": "code",
      "metadata": {
        "id": "kc_x45NDJ5XE",
        "colab_type": "code",
        "colab": {}
      },
      "source": [
        "val = [int(i) for i in str1]"
      ],
      "execution_count": 0,
      "outputs": []
    },
    {
      "cell_type": "code",
      "metadata": {
        "id": "sAU1wA7nJ5XG",
        "colab_type": "code",
        "colab": {}
      },
      "source": [
        "for j in range(len(val)):\n",
        "    print('j'+str(j))\n",
        "    if j>0:\n",
        "        print(k)\n",
        "        k=val[j]+k\n",
        "        print('k suma'+str(k))\n",
        "        x=val[j]**2\n",
        "        ##print(x)\n",
        "        if k == x :\n",
        "            print('sali')\n",
        "            break\n",
        "        if (j<len(val)-1):\n",
        "            if (val[j]!=val[j+1]):\n",
        "                k=0\n",
        "        if j==len(val)-1:\n",
        "            print('false')\n",
        "            break\n",
        "    else:\n",
        "        k=val[j]"
      ],
      "execution_count": 0,
      "outputs": []
    },
    {
      "cell_type": "code",
      "metadata": {
        "id": "vzndB42BJ5XJ",
        "colab_type": "code",
        "colab": {}
      },
      "source": [
        ""
      ],
      "execution_count": 0,
      "outputs": []
    },
    {
      "cell_type": "markdown",
      "metadata": {
        "id": "B2w6uXl-J5XL",
        "colab_type": "text"
      },
      "source": [
        "Punto 2 mediana deslizante, la ventana es el primer valor del vector"
      ]
    },
    {
      "cell_type": "markdown",
      "metadata": {
        "id": "cwUnAY8bJ5XM",
        "colab_type": "text"
      },
      "source": [
        "Moving Median\n",
        "Have the function MovingMedian(arr) read the array of numbers stored in arr which will contain a sliding window size, N, as the first element in the array and the rest will be a list of numbers. Your program should return the Moving Median for each element based on the element and its N-1 predecessors, where N is the sliding window size. The final output should be a string with the moving median corresponding to each entry in the original array separated by commas.\n",
        "\n",
        "Note that for the first few elements (until the window size is reached), the median is computed on a smaller number of entries. For example: if arr is [3, 1, 3, 5, 10, 6, 4, 3, 1] then your program should output \"1,2,3,5,6,6,4,3\""
      ]
    },
    {
      "cell_type": "code",
      "metadata": {
        "id": "vz9L30KrJ5XM",
        "colab_type": "code",
        "colab": {}
      },
      "source": [
        "#arr = [3,1,3,5,10,6,4,3,1] ##out=[1,2,3,5,6,6,4,3]\n",
        "#arr=[5,2,4,6] ## out=[2,3,4]\n",
        "arr=[3, 0, 0, -2, 0, 2, 0, -2] ## out=[0,0,0,0,0,0,0]"
      ],
      "execution_count": 0,
      "outputs": []
    },
    {
      "cell_type": "code",
      "metadata": {
        "id": "O5SGwK-5J5XP",
        "colab_type": "code",
        "colab": {}
      },
      "source": [
        "window=arr[0]"
      ],
      "execution_count": 0,
      "outputs": []
    },
    {
      "cell_type": "code",
      "metadata": {
        "id": "OGXpghURJ5XS",
        "colab_type": "code",
        "colab": {}
      },
      "source": [
        "v=arr[1:]"
      ],
      "execution_count": 0,
      "outputs": []
    },
    {
      "cell_type": "code",
      "metadata": {
        "id": "cA-Vi5W1J5XV",
        "colab_type": "code",
        "colab": {}
      },
      "source": [
        "def rev_int(x): ##I need to give an int output\n",
        "    if type(x)== int:\n",
        "        r=x\n",
        "    else:\n",
        "        r=round(x)\n",
        "    return r "
      ],
      "execution_count": 0,
      "outputs": []
    },
    {
      "cell_type": "code",
      "metadata": {
        "id": "I-dr2Fc-J5XX",
        "colab_type": "code",
        "outputId": "37a7ff5e-3c28-4cd0-a26c-12332ac60369",
        "colab": {}
      },
      "source": [
        "a=[]##create the output array\n",
        "a1=''\n",
        "for i in range(len(v)):\n",
        "    if i+1 < window:\n",
        "        if i%2==0:\n",
        "            x=rev_int((v[i]+1)/2)\n",
        "            a.append(x)\n",
        "            a1=a1+str(x)+','\n",
        "        else:\n",
        "            x=rev_int((v[i]/2)+((v[i]+1)/2)/2)\n",
        "            a.append(x)\n",
        "            a1=a1+str(x)+','\n",
        "    else:\n",
        "        m = v[i+1-window:i+1:1]\n",
        "        j=sorted(m)\n",
        "        a.append(j[1])\n",
        "        a1=a1+str(j[1])+','\n",
        "print(a)\n",
        "print(a1[:-1])"
      ],
      "execution_count": 0,
      "outputs": [
        {
          "output_type": "stream",
          "text": [
            "[0, 0, 0, 0, 0, 0, 0]\n",
            "0,0,0,0,0,0,0\n"
          ],
          "name": "stdout"
        }
      ]
    },
    {
      "cell_type": "code",
      "metadata": {
        "id": "2DMXkSmMJ5Xa",
        "colab_type": "code",
        "colab": {}
      },
      "source": [
        ""
      ],
      "execution_count": 0,
      "outputs": []
    },
    {
      "cell_type": "markdown",
      "metadata": {
        "id": "Kfx0LWk_J5Xd",
        "colab_type": "text"
      },
      "source": [
        "punto 3\n",
        " For this challenge you will determine the maximum profit that can be made in a range of stock prices\n"
      ]
    },
    {
      "cell_type": "markdown",
      "metadata": {
        "id": "DNut5uraJ5Xd",
        "colab_type": "text"
      },
      "source": [
        "Stock Picker\n",
        "Have the function StockPicker(arr) take the array of numbers stored in arr which will contain integers that represent the amount in dollars that a single stock is worth, and return the maximum profit that could have been made by buying stock on day x and selling stock on day y where y > x. For example: if arr is [44, 30, 24, 32, 35, 30, 40, 38, 15] then your program should return 16 because at index 2 the stock was worth $24 and at index 6 the stock was then worth $40, so if you bought the stock at 24 and sold it at 40, you would have made a profit of $16, which is the maximum profit that could have been made with this list of stock prices.\n",
        "\n",
        "If there is not profit that could have been made with the stock prices, then your program should return -1. For example: arr is [10, 9, 8, 2] then your program should return -1."
      ]
    },
    {
      "cell_type": "code",
      "metadata": {
        "id": "jXK3L4plJ5Xe",
        "colab_type": "code",
        "colab": {}
      },
      "source": [
        "#arr=[10,12,4,5,9] #Output: 5\n",
        "#arr=[14,20,4,12,5,11] #Output: 8\n",
        "arr=[44, 30, 24, 32, 35, 30, 40, 38, 15] #output = 16\n",
        "#arr = [10, 9, 8, 2] #output = -1 "
      ],
      "execution_count": 0,
      "outputs": []
    },
    {
      "cell_type": "code",
      "metadata": {
        "id": "n1PZLUhzJ5Xg",
        "colab_type": "code",
        "outputId": "83c4f244-76a9-452e-a0df-3da4316452f2",
        "colab": {
          "base_uri": "https://localhost:8080/",
          "height": 34
        }
      },
      "source": [
        "y=0\n",
        "for i in range(len(arr)):\n",
        "  k=arr[i+1:]\n",
        "  for j in range(len(k)):\n",
        "    if k[j]>arr[i]:\n",
        "       x=k[j]-arr[i]\n",
        "       if x>y:\n",
        "         y=x\n",
        "if y == 0:\n",
        "  y=-1\n",
        "print('final '+str(y))    "
      ],
      "execution_count": 0,
      "outputs": [
        {
          "output_type": "stream",
          "text": [
            "final 16\n"
          ],
          "name": "stdout"
        }
      ]
    },
    {
      "cell_type": "code",
      "metadata": {
        "id": "ve3R4Hf9J5Xi",
        "colab_type": "code",
        "colab": {}
      },
      "source": [
        ""
      ],
      "execution_count": 0,
      "outputs": []
    },
    {
      "cell_type": "code",
      "metadata": {
        "id": "hexPcN5tJ5Xl",
        "colab_type": "code",
        "colab": {}
      },
      "source": [
        ""
      ],
      "execution_count": 0,
      "outputs": []
    }
  ]
}